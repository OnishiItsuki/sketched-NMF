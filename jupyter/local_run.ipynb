{
 "cells": [
  {
   "cell_type": "code",
   "execution_count": 7,
   "metadata": {},
   "outputs": [
    {
     "name": "stdout",
     "output_type": "stream",
     "text": [
      "-----------------   START   ------------------\n",
      "mode = 2\n",
      "start  realdata_4(rough k, r)_V_MU_[n361, m2429, r300, as1000, ite3000,seed 0, 1]  >>>>>\n",
      "\n",
      "seed of V=0  seed of WH=1\n",
      "\n",
      "\n",
      "\n",
      "------------------   NMF   -------------------\n",
      "1 times update  error: 1099177496.6773245\n",
      "100 times update  error: 168721538.89163736\n",
      "200 times update  error: 73463676.2829699\n",
      "300 times update  error: 48315976.600866444\n",
      "400 times update  error: 37171792.516103484\n",
      "500 times update  error: 30892264.37978131\n",
      "600 times update  error: 26838894.724382974\n",
      "700 times update  error: 23989761.048660833\n",
      "800 times update  error: 21867935.980400853\n",
      "900 times update  error: 20221557.030907426\n",
      "1000 times update  error: 18902722.219742283\n",
      "1100 times update  error: 17819878.848469384\n",
      "1200 times update  error: 16912377.881221753\n",
      "1300 times update  error: 16138160.816973437\n",
      "1400 times update  error: 15468439.655453147\n",
      "1500 times update  error: 14882265.432592751\n",
      "1600 times update  error: 14363999.559871396\n",
      "1700 times update  error: 13901793.317637933\n",
      "1800 times update  error: 13486150.099959271\n",
      "1900 times update  error: 13109610.415351445\n",
      "2000 times update  error: 12766649.763835931\n",
      "2100 times update  error: 12452606.119146187\n",
      "2200 times update  error: 12163920.436247434\n",
      "2300 times update  error: 11897721.31812731\n",
      "2400 times update  error: 11651120.82610852\n",
      "2500 times update  error: 11421761.755146272\n",
      "2600 times update  error: 11207913.843621124\n",
      "2700 times update  error: 11007886.798000604\n",
      "2800 times update  error: 10820204.871311761\n",
      "2900 times update  error: 10643819.916632177\n",
      "3000 times update  error: 10477496.338388551\n",
      "\n",
      "\n",
      "-------------   Sketching NMF   --------------\n",
      "2400 times qp1 times update  error: 815089925.9920144\n",
      "2400 times qp100 times update  error: 86497098.46046361\n",
      "2400 times qp200 times update  error: 45896555.11619193\n",
      "2400 times qp300 times update  error: 34815370.297909886\n",
      "2400 times qp400 times update  error: 29591027.317319393\n",
      "2400 times qp500 times update  error: 26479179.12533761\n",
      "2400 times qp600 times update  error: 24382782.32619692\n",
      "2400 times qp700 times update  error: 22854134.731847808\n",
      "2400 times qp800 times update  error: 21677395.82673022\n",
      "2400 times qp900 times update  error: 20736542.47177334\n",
      "2400 times qp1000 times update  error: 19962326.941059854\n",
      "2400 times qp1100 times update  error: 19311157.27817901\n",
      "2400 times qp1200 times update  error: 18754006.122868396\n",
      "2400 times qp1300 times update  error: 18270359.320824914\n",
      "2400 times qp1400 times update  error: 17845330.323344704\n",
      "2400 times qp1500 times update  error: 17467657.177896455\n",
      "2400 times qp1600 times update  error: 17129080.030587807\n",
      "2400 times qp1700 times update  error: 16823139.205925908\n",
      "2400 times qp1800 times update  error: 16544910.404636936\n",
      "2400 times qp1900 times update  error: 16290062.356229369\n",
      "2400 times qp2000 times update  error: 16055298.034339044\n",
      "2400 times qp2100 times update  error: 15837974.073743876\n",
      "2400 times qp2200 times update  error: 15635898.562312176\n",
      "2400 times qp2300 times update  error: 15447275.802235253\n",
      "2400 times qp2400 times update  error: 15270649.439312529\n",
      "2400 times qp2500 times update  error: 15104808.515215319\n",
      "2400 times qp2600 times update  error: 14948603.556737669\n",
      "2400 times qp2700 times update  error: 14801043.336026119\n",
      "2400 times qp2800 times update  error: 14661413.666794874\n",
      "2400 times qp2900 times update  error: 14529041.73029046\n",
      "2400 times qp3000 times update  error: 14403252.92287639\n",
      "2400 times qp"
     ]
    },
    {
     "ename": "OSError",
     "evalue": "[Errno 22] Invalid argument: 'MU/NMF_time(column:r, row:appr_size).csv'",
     "output_type": "error",
     "traceback": [
      "\u001b[1;31m---------------------------------------------------------------------------\u001b[0m",
      "\u001b[1;31mOSError\u001b[0m                                   Traceback (most recent call last)",
      "\u001b[1;32m~\\PycharmProjects\\sketching-nmf\\main_apply_data.py\u001b[0m in \u001b[0;36m<module>\u001b[1;34m\u001b[0m\n",
      "\u001b[1;32m~\\.julia\\conda\\3\\lib\\site-packages\\pandas\\core\\generic.py\u001b[0m in \u001b[0;36mto_csv\u001b[1;34m(self, path_or_buf, sep, na_rep, float_format, columns, header, index, index_label, mode, encoding, compression, quoting, quotechar, line_terminator, chunksize, date_format, doublequote, escapechar, decimal)\u001b[0m\n\u001b[0;32m   3226\u001b[0m             \u001b[0mdecimal\u001b[0m\u001b[1;33m=\u001b[0m\u001b[0mdecimal\u001b[0m\u001b[1;33m,\u001b[0m\u001b[1;33m\u001b[0m\u001b[0m\n\u001b[0;32m   3227\u001b[0m         )\n\u001b[1;32m-> 3228\u001b[1;33m         \u001b[0mformatter\u001b[0m\u001b[1;33m.\u001b[0m\u001b[0msave\u001b[0m\u001b[1;33m(\u001b[0m\u001b[1;33m)\u001b[0m\u001b[1;33m\u001b[0m\u001b[0m\n\u001b[0m\u001b[0;32m   3229\u001b[0m \u001b[1;33m\u001b[0m\u001b[0m\n\u001b[0;32m   3230\u001b[0m         \u001b[1;32mif\u001b[0m \u001b[0mpath_or_buf\u001b[0m \u001b[1;32mis\u001b[0m \u001b[1;32mNone\u001b[0m\u001b[1;33m:\u001b[0m\u001b[1;33m\u001b[0m\u001b[0m\n",
      "\u001b[1;32m~\\.julia\\conda\\3\\lib\\site-packages\\pandas\\io\\formats\\csvs.py\u001b[0m in \u001b[0;36msave\u001b[1;34m(self)\u001b[0m\n\u001b[0;32m    181\u001b[0m                 \u001b[0mself\u001b[0m\u001b[1;33m.\u001b[0m\u001b[0mmode\u001b[0m\u001b[1;33m,\u001b[0m\u001b[1;33m\u001b[0m\u001b[0m\n\u001b[0;32m    182\u001b[0m                 \u001b[0mencoding\u001b[0m\u001b[1;33m=\u001b[0m\u001b[0mself\u001b[0m\u001b[1;33m.\u001b[0m\u001b[0mencoding\u001b[0m\u001b[1;33m,\u001b[0m\u001b[1;33m\u001b[0m\u001b[0m\n\u001b[1;32m--> 183\u001b[1;33m                 \u001b[0mcompression\u001b[0m\u001b[1;33m=\u001b[0m\u001b[0mself\u001b[0m\u001b[1;33m.\u001b[0m\u001b[0mcompression\u001b[0m\u001b[1;33m,\u001b[0m\u001b[1;33m\u001b[0m\u001b[0m\n\u001b[0m\u001b[0;32m    184\u001b[0m             )\n\u001b[0;32m    185\u001b[0m             \u001b[0mclose\u001b[0m \u001b[1;33m=\u001b[0m \u001b[1;32mTrue\u001b[0m\u001b[1;33m\u001b[0m\u001b[0m\n",
      "\u001b[1;32m~\\.julia\\conda\\3\\lib\\site-packages\\pandas\\io\\common.py\u001b[0m in \u001b[0;36m_get_handle\u001b[1;34m(path_or_buf, mode, encoding, compression, memory_map, is_text)\u001b[0m\n\u001b[0;32m    397\u001b[0m         \u001b[1;32mif\u001b[0m \u001b[0mencoding\u001b[0m\u001b[1;33m:\u001b[0m\u001b[1;33m\u001b[0m\u001b[0m\n\u001b[0;32m    398\u001b[0m             \u001b[1;31m# Encoding\u001b[0m\u001b[1;33m\u001b[0m\u001b[1;33m\u001b[0m\u001b[0m\n\u001b[1;32m--> 399\u001b[1;33m             \u001b[0mf\u001b[0m \u001b[1;33m=\u001b[0m \u001b[0mopen\u001b[0m\u001b[1;33m(\u001b[0m\u001b[0mpath_or_buf\u001b[0m\u001b[1;33m,\u001b[0m \u001b[0mmode\u001b[0m\u001b[1;33m,\u001b[0m \u001b[0mencoding\u001b[0m\u001b[1;33m=\u001b[0m\u001b[0mencoding\u001b[0m\u001b[1;33m,\u001b[0m \u001b[0mnewline\u001b[0m\u001b[1;33m=\u001b[0m\u001b[1;34m\"\"\u001b[0m\u001b[1;33m)\u001b[0m\u001b[1;33m\u001b[0m\u001b[0m\n\u001b[0m\u001b[0;32m    400\u001b[0m         \u001b[1;32melif\u001b[0m \u001b[0mis_text\u001b[0m\u001b[1;33m:\u001b[0m\u001b[1;33m\u001b[0m\u001b[0m\n\u001b[0;32m    401\u001b[0m             \u001b[1;31m# No explicit encoding\u001b[0m\u001b[1;33m\u001b[0m\u001b[1;33m\u001b[0m\u001b[0m\n",
      "\u001b[1;31mOSError\u001b[0m: [Errno 22] Invalid argument: 'MU/NMF_time(column:r, row:appr_size).csv'"
     ]
    }
   ],
   "source": [
    "%run -i C:\\Users\\OnishiItsuki\\PycharmProjects\\sketching-nmf\\main_apply_data.py"
   ]
  },
  {
   "cell_type": "code",
   "execution_count": null,
   "metadata": {},
   "outputs": [],
   "source": []
  },
  {
   "cell_type": "code",
   "execution_count": null,
   "metadata": {},
   "outputs": [],
   "source": []
  }
 ],
 "metadata": {
  "kernelspec": {
   "display_name": "Python 3",
   "language": "python",
   "name": "python3"
  },
  "language_info": {
   "codemirror_mode": {
    "name": "ipython",
    "version": 3
   },
   "file_extension": ".py",
   "mimetype": "text/x-python",
   "name": "python",
   "nbconvert_exporter": "python",
   "pygments_lexer": "ipython3",
   "version": "3.6.5"
  }
 },
 "nbformat": 4,
 "nbformat_minor": 2
}
